{
 "cells": [
  {
   "cell_type": "code",
   "execution_count": 2,
   "metadata": {},
   "outputs": [],
   "source": [
    "import numpy as np"
   ]
  },
  {
   "cell_type": "code",
   "execution_count": 43,
   "metadata": {},
   "outputs": [],
   "source": [
    "#Create with a range\n",
    "a=np.arange(15).reshape(3,5)"
   ]
  },
  {
   "cell_type": "code",
   "execution_count": 44,
   "metadata": {},
   "outputs": [
    {
     "name": "stdout",
     "output_type": "stream",
     "text": [
      "[[ 0  1  2  3  4]\n",
      " [ 5  6  7  8  9]\n",
      " [10 11 12 13 14]]\n",
      "<class 'numpy.ndarray'>\n"
     ]
    }
   ],
   "source": [
    "print(a)\n",
    "print(type(a))"
   ]
  },
  {
   "cell_type": "code",
   "execution_count": 18,
   "metadata": {},
   "outputs": [
    {
     "name": "stdout",
     "output_type": "stream",
     "text": [
      "2\n",
      "(3, 5)\n",
      "15\n",
      "int64\n",
      "8\n",
      "<memory at 0x1144e7830>\n"
     ]
    }
   ],
   "source": [
    "print(a.ndim)\n",
    "print(a.shape)\n",
    "print(a.size)\n",
    "print(a.dtype)\n",
    "print(a.itemsize)\n",
    "print(a.data)"
   ]
  },
  {
   "cell_type": "code",
   "execution_count": 52,
   "metadata": {},
   "outputs": [
    {
     "name": "stdout",
     "output_type": "stream",
     "text": [
      "[1 2 3 4] Type is : <class 'numpy.ndarray'>\n",
      "int64 Shape :  (4,) Number of axes :  1\n",
      "[[1.  2.  3.  4. ]\n",
      " [1.  2.  3.1 6. ]\n",
      " [2.3 4.  5.  7. ]] Type is : <class 'numpy.ndarray'>\n",
      "float64 Shape :  (3, 4) Number of axes :  2\n",
      "[[0. 0. 0. 0.]]\n",
      "[[1. 1. 1.]\n",
      " [1. 1. 1.]]\n",
      "[[7.07106781e-01 1.00000000e+00]\n",
      " [7.07106781e-01 1.22464680e-16]\n",
      " [7.07106781e-01 1.00000000e+00]\n",
      " [7.07106781e-01 2.44929360e-16]]\n",
      "[1.   1.25 1.5  1.75 2.   2.25 2.5  2.75 3.   3.25 3.5  3.75 4.   4.25\n",
      " 4.5  4.75]\n",
      "[0.         0.78539816 1.57079633 2.35619449 3.14159265 3.92699082\n",
      " 4.71238898 5.49778714 6.28318531]\n"
     ]
    }
   ],
   "source": [
    "#Array Creation\n",
    "#Single dimensional array\n",
    "b=np.array([1,2,3,4])\n",
    "print(b,'Type is :',type(b))\n",
    "print(b.dtype, 'Shape : ',b.shape, 'Number of axes : ',b.ndim)\n",
    "\n",
    "#Multi-dimensional array\n",
    "b=np.array([(1,2,3,4),(1,2,3.1,6),(2.3,4,5,7)])\n",
    "print(b,'Type is :',type(b))\n",
    "print(b.dtype, 'Shape : ',b.shape, 'Number of axes : ',b.ndim)\n",
    "\n",
    "#Better to create arrays with the planned size. It can be initialised with some content in multiple ways\n",
    "#Initialised with zero\n",
    "a=np.zeros((1,4))\n",
    "print(a)\n",
    "\n",
    "#Initialised with 1\n",
    "print(np.ones((2,3)))\n",
    "\n",
    "#Initialised with random values\n",
    "print(np.empty((4,2)))\n",
    "\n",
    "#Create in a range\n",
    "print(np.arange(1,5,0.25))\n",
    "\n",
    "#Use linspace in case of float\n",
    "print(np.linspace(0,2*np.pi,9))"
   ]
  },
  {
   "cell_type": "code",
   "execution_count": 106,
   "metadata": {},
   "outputs": [
    {
     "name": "stdout",
     "output_type": "stream",
     "text": [
      "1D Array:\n",
      " [0 1 2 3 4 5]\n",
      "2D Array:\n",
      " [[0 1 2]\n",
      " [3 4 5]]\n",
      "3D Array:\n",
      " [[[ 0  1  2  3]\n",
      "  [ 4  5  6  7]\n",
      "  [ 8  9 10 11]]\n",
      "\n",
      " [[12 13 14 15]\n",
      "  [16 17 18 19]\n",
      "  [20 21 22 23]]]\n"
     ]
    }
   ],
   "source": [
    "#Printing and representation of arrays\n",
    "#1D array\n",
    "print('1D Array:\\n',np.arange(6))\n",
    "\n",
    "#2D array\n",
    "print('2D Array:\\n',np.arange(6).reshape(2,3))\n",
    "\n",
    "#3D array\n",
    "print('3D Array:\\n',np.arange(24).reshape(2,3,4))"
   ]
  },
  {
   "cell_type": "code",
   "execution_count": 66,
   "metadata": {},
   "outputs": [
    {
     "name": "stdout",
     "output_type": "stream",
     "text": [
      "[20 25 30 35 40 45]\n",
      "[10 15 20 25 30 35]\n",
      "[10 10 10 10 10 10]\n",
      "[ 100  225  400  625  900 1225]\n",
      "[ True  True  True False False False]\n"
     ]
    }
   ],
   "source": [
    "#Basic Operations\n",
    "a = np.arange(20,50,5)\n",
    "print(a)\n",
    "b = np.arange(10,40,5)\n",
    "print(b)\n",
    "print(a-b)\n",
    "print(b**2)\n",
    "print(a<35)"
   ]
  },
  {
   "cell_type": "code",
   "execution_count": 70,
   "metadata": {},
   "outputs": [
    {
     "name": "stdout",
     "output_type": "stream",
     "text": [
      "[[2 0]\n",
      " [0 4]]\n",
      "\n",
      " [[5 4]\n",
      " [3 4]]\n"
     ]
    }
   ],
   "source": [
    "#Multiplication and Matrix product\n",
    "A = np.array( [[1,1],[0,1]] )\n",
    "B = np.array( [[2,0],[3,4]] )\n",
    "print(A*B)\n",
    "#Dot multiplication\n",
    "print('\\n',A@B)"
   ]
  },
  {
   "cell_type": "code",
   "execution_count": 78,
   "metadata": {},
   "outputs": [
    {
     "name": "stdout",
     "output_type": "stream",
     "text": [
      "[[1 1 1]\n",
      " [1 1 1]]\n",
      "[[0.90324557 0.70215885 0.36520132]\n",
      " [0.8360282  0.94931048 0.15193015]]\n",
      "[[3 3 3]\n",
      " [3 3 3]]\n",
      "[[3.90324557 3.70215885 3.36520132]\n",
      " [3.8360282  3.94931048 3.15193015]]\n"
     ]
    }
   ],
   "source": [
    "#Other operators\n",
    "a = np.ones((2,3), dtype=int)\n",
    "print(a)\n",
    "b = np.random.random((2,3))\n",
    "print(b)\n",
    "a*=3\n",
    "print(a)\n",
    "b+=a\n",
    "print(b)"
   ]
  },
  {
   "cell_type": "code",
   "execution_count": 83,
   "metadata": {},
   "outputs": [
    {
     "name": "stdout",
     "output_type": "stream",
     "text": [
      "[1 2 3 4]\n",
      "10 4 1\n"
     ]
    }
   ],
   "source": [
    "b=np.array([1,2,3,4])\n",
    "print(b)\n",
    "print(b.sum(), b.max(), b.min())"
   ]
  },
  {
   "cell_type": "code",
   "execution_count": 129,
   "metadata": {},
   "outputs": [
    {
     "name": "stdout",
     "output_type": "stream",
     "text": [
      "[[[0 1]\n",
      "  [2 3]]\n",
      "\n",
      " [[4 5]\n",
      "  [6 7]]]\n",
      "[[ 4  6]\n",
      " [ 8 10]] \n",
      "Axis-1\n",
      " [[ 2  4]\n",
      " [10 12]] \n",
      "Axis-2\n",
      " [[ 2  4]\n",
      " [10 12]]\n",
      "\n",
      " Tuple sum\n",
      " [12 16]\n",
      "\n",
      "Mean :\n",
      " [[2. 3.]\n",
      " [4. 5.]]\n",
      "\n",
      "Median :\n",
      " [[2. 3.]\n",
      " [4. 5.]]\n"
     ]
    }
   ],
   "source": [
    "#b = np.arange(24).reshape(3,4,2)\n",
    "b = np.arange(8).reshape(2,2,2) #This will basically be an array of 2 holding another array of 3 holding another array of 4\n",
    "print(b)\n",
    "#print(b.ndim)\n",
    "#print(b.sum())\n",
    "#axis=0 is sum of columns across layers, axis=1 is sum of rows within a layer\n",
    "print(b.sum(axis=0),'\\nAxis-1\\n', b.sum(axis=1), '\\nAxis-2\\n',b.sum(axis=1))\n",
    "print('\\n Tuple sum\\n',b.sum(axis=(0,1)))\n",
    "print('\\nMean :\\n',np.mean(b,axis=0))\n",
    "print('\\nMedian :\\n',np.median(b,axis=0))"
   ]
  },
  {
   "cell_type": "code",
   "execution_count": 146,
   "metadata": {},
   "outputs": [
    {
     "name": "stdout",
     "output_type": "stream",
     "text": [
      "[  0   1   8  27  64 125 216 343 512 729]\n",
      "8\n",
      "[ 64 125 216]\n",
      "[ 0  8 64]\n",
      "[-1000     1 -1000    27 -1000   125   216   343   512   729]\n",
      "[  729   512   343   216   125 -1000    27 -1000     1 -1000]\n",
      "nan\n",
      "1.0\n",
      "nan\n",
      "3.0\n",
      "nan\n",
      "4.999999999999999\n",
      "5.999999999999999\n",
      "6.999999999999999\n",
      "7.999999999999999\n",
      "8.999999999999998\n"
     ]
    },
    {
     "name": "stderr",
     "output_type": "stream",
     "text": [
      "/Users/thomas/opt/anaconda3/lib/python3.7/site-packages/ipykernel_launcher.py:11: RuntimeWarning: invalid value encountered in power\n",
      "  # This is added back by InteractiveShellApp.init_path()\n"
     ]
    }
   ],
   "source": [
    "#Indexing, Slicing and Iterating\n",
    "a = np.arange(10)**3\n",
    "print(a)\n",
    "print(a[2])\n",
    "print(a[4:7])\n",
    "print(a[:6:2]) #Equivalent to a[0:6:2)] i.e. start from 0 and end by 5 and pick every second member\n",
    "a[:6:2]=-1000\n",
    "print(a)\n",
    "print(a[::-1]) #print the 0 till the end but in reverse\n",
    "for i in a:\n",
    "    print(i**(1/3))"
   ]
  },
  {
   "cell_type": "code",
   "execution_count": 10,
   "metadata": {},
   "outputs": [
    {
     "name": "stdout",
     "output_type": "stream",
     "text": [
      "[[ 0  1  2  3]\n",
      " [ 4  5  6  7]\n",
      " [ 8  9 10 11]\n",
      " [12 13 14 15]\n",
      " [16 17 18 19]]\n",
      "15\n",
      "[3 7]\n",
      "[ 3  7 11 15 19]\n",
      "[[ 4  5  6  7]\n",
      " [ 8  9 10 11]]\n",
      "[16 17 18 19]\n"
     ]
    }
   ],
   "source": [
    "d=np.arange(20).reshape(5,4)\n",
    "print(d)\n",
    "print(d[3,3])\n",
    "print(d[0:2,3])\n",
    "print(d[:,3])\n",
    "print(d[1:3,:]) #Print for rows 1 and 2 all the columns\n",
    "print(d[-1]) #Here when the column is not specified,it is taken as :, i.e. all"
   ]
  },
  {
   "cell_type": "code",
   "execution_count": 11,
   "metadata": {},
   "outputs": [
    {
     "name": "stdout",
     "output_type": "stream",
     "text": [
      "[[ 0  1  2  3]\n",
      " [ 4  5  6  7]\n",
      " [ 8  9 10 11]\n",
      " [12 13 14 15]\n",
      " [16 17 18 19]]\n"
     ]
    }
   ],
   "source": [
    "print(d)"
   ]
  },
  {
   "cell_type": "code",
   "execution_count": 17,
   "metadata": {},
   "outputs": [
    {
     "name": "stdout",
     "output_type": "stream",
     "text": [
      "[ 0  1  2  3  4  5  6  7  8  9 10 11 12 13 14 15 16 17 18 19]\n",
      "[[ 0  1  2  3]\n",
      " [ 4  5  6  7]\n",
      " [ 8  9 10 11]\n",
      " [12 13 14 15]\n",
      " [16 17 18 19]]\n",
      "(5, 4)\n",
      "[[ 0  4  8 12 16]\n",
      " [ 1  5  9 13 17]\n",
      " [ 2  6 10 14 18]\n",
      " [ 3  7 11 15 19]]\n",
      "(4, 5)\n"
     ]
    }
   ],
   "source": [
    "print(np.ravel(d)) #Flattens the array into a single dimensional one\n",
    "print(d)\n",
    "print(d.shape)\n",
    "print(np.transpose(d))\n",
    "print(np.transpose(d).shape)"
   ]
  },
  {
   "cell_type": "code",
   "execution_count": 26,
   "metadata": {},
   "outputs": [
    {
     "name": "stdout",
     "output_type": "stream",
     "text": [
      "(4, 3)\n",
      "[[ 0  1  2]\n",
      " [ 3  4  5]\n",
      " [ 6  7  8]\n",
      " [ 9 10 11]]\n",
      "(3, 4)\n",
      "[[ 0  1  2  3]\n",
      " [ 4  5  6  7]\n",
      " [ 8  9 10 11]]\n"
     ]
    }
   ],
   "source": [
    "e=np.arange(12).reshape(4,3)\n",
    "print(e.shape)\n",
    "print(e)\n",
    "e.resize(3,4)\n",
    "print(e.shape)\n",
    "print(e)"
   ]
  },
  {
   "cell_type": "code",
   "execution_count": 34,
   "metadata": {},
   "outputs": [
    {
     "name": "stdout",
     "output_type": "stream",
     "text": [
      "[[[4. 1.]\n",
      "  [5. 8.]]\n",
      "\n",
      " [[6. 1.]\n",
      "  [4. 5.]]]\n",
      "[[[6. 6.]\n",
      "  [4. 5.]]\n",
      "\n",
      " [[4. 8.]\n",
      "  [1. 3.]]]\n",
      "\n",
      "Vertical Stacking\n",
      " [[[4. 1.]\n",
      "  [5. 8.]]\n",
      "\n",
      " [[6. 1.]\n",
      "  [4. 5.]]\n",
      "\n",
      " [[6. 6.]\n",
      "  [4. 5.]]\n",
      "\n",
      " [[4. 8.]\n",
      "  [1. 3.]]]\n",
      "\n",
      "Horizontal Stacking\n",
      " [[[4. 1.]\n",
      "  [5. 8.]\n",
      "  [6. 6.]\n",
      "  [4. 5.]]\n",
      "\n",
      " [[6. 1.]\n",
      "  [4. 5.]\n",
      "  [4. 8.]\n",
      "  [1. 3.]]]\n"
     ]
    }
   ],
   "source": [
    "#Stacking of arrays\n",
    "a=np.floor(10*np.random.random((2,2,2)))\n",
    "print(a)\n",
    "b=np.floor(10*np.random.random((2,2,2)))\n",
    "print(b)\n",
    "print('\\nVertical Stacking\\n',np.vstack((a,b)))\n",
    "print('\\nHorizontal Stacking\\n',np.hstack((a,b)))"
   ]
  },
  {
   "cell_type": "code",
   "execution_count": null,
   "metadata": {},
   "outputs": [],
   "source": [
    "#Splitting arrays\n"
   ]
  }
 ],
 "metadata": {
  "kernelspec": {
   "display_name": "Python 3",
   "language": "python",
   "name": "python3"
  },
  "language_info": {
   "codemirror_mode": {
    "name": "ipython",
    "version": 3
   },
   "file_extension": ".py",
   "mimetype": "text/x-python",
   "name": "python",
   "nbconvert_exporter": "python",
   "pygments_lexer": "ipython3",
   "version": "3.7.4"
  }
 },
 "nbformat": 4,
 "nbformat_minor": 2
}
