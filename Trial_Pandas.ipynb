{
 "cells": [
  {
   "cell_type": "code",
   "execution_count": 1,
   "metadata": {},
   "outputs": [],
   "source": [
    "import numpy as np\n",
    "import pandas as pd"
   ]
  },
  {
   "cell_type": "code",
   "execution_count": 9,
   "metadata": {},
   "outputs": [
    {
     "name": "stdout",
     "output_type": "stream",
     "text": [
      "a    5\n",
      "b    5\n",
      "c    5\n",
      "d    5\n",
      "e    5\n",
      "dtype: int64\n",
      "<class 'pandas.core.series.Series'> 5\n",
      "Index(['a', 'b', 'c', 'd', 'e'], dtype='object')\n"
     ]
    }
   ],
   "source": [
    "s = pd.Series(5, index=['a', 'b', 'c', 'd', 'e'])\n",
    "print(s)\n",
    "print(type(s), len(s))\n",
    "print(s.index)"
   ]
  },
  {
   "cell_type": "code",
   "execution_count": 25,
   "metadata": {},
   "outputs": [
    {
     "name": "stdout",
     "output_type": "stream",
     "text": [
      "a    0.557107\n",
      "b    0.081518\n",
      "c    0.152712\n",
      "d    0.982504\n",
      "e    0.091029\n",
      "dtype: float64\n",
      "<class 'pandas.core.series.Series'> 5\n",
      "Index(['a', 'b', 'c', 'd', 'e'], dtype='object')\n",
      "float64\n",
      "(5,)\n",
      "a     0.557107\n",
      "b     0.081518\n",
      "c     0.152712\n",
      "d     0.982504\n",
      "e     0.091029\n",
      "f    12.000000\n",
      "dtype: float64\n"
     ]
    }
   ],
   "source": [
    "s = pd.Series(np.random.random(5), index=['a', 'b', 'c', 'd', 'e'])\n",
    "print(s)\n",
    "print(type(s), len(s))\n",
    "print(s.index)\n",
    "print(s.dtype)\n",
    "print(s.shape)\n",
    "s['f']=12\n",
    "print(s)"
   ]
  },
  {
   "cell_type": "code",
   "execution_count": 30,
   "metadata": {},
   "outputs": [
    {
     "name": "stdout",
     "output_type": "stream",
     "text": [
      "0.5571070091189391\n",
      "a    0.557107\n",
      "b    0.081518\n",
      "c    0.152712\n",
      "dtype: float64\n",
      "0.35490952207249443\n",
      "a     0.557107\n",
      "d     0.982504\n",
      "f    12.000000\n",
      "dtype: float64\n",
      "e    0.091029\n",
      "d    0.982504\n",
      "b    0.081518\n",
      "dtype: float64\n",
      "0.08151804621139458\n",
      "0.08151804621139458\n"
     ]
    }
   ],
   "source": [
    "#Indexing/Slicing\n",
    "print(s[0])\n",
    "print(s[:3])\n",
    "print(s.median())\n",
    "print(s[s>s.median()])\n",
    "print(s[[4,3,1]])\n",
    "print(s['b'])\n",
    "print(s.get('b'))"
   ]
  },
  {
   "cell_type": "code",
   "execution_count": 21,
   "metadata": {},
   "outputs": [
    {
     "name": "stdout",
     "output_type": "stream",
     "text": [
      "<PandasArray>\n",
      "[ 0.0516569037912431,  0.9700313299669683, 0.06755346887346914,\n",
      "  0.8620717774200966,  0.3395770081097681]\n",
      "Length: 5, dtype: float64\n"
     ]
    }
   ],
   "source": [
    "#Printing the actual array holding the series\n",
    "print(s.array)"
   ]
  },
  {
   "cell_type": "code",
   "execution_count": 29,
   "metadata": {},
   "outputs": [
    {
     "data": {
      "text/plain": [
       "True"
      ]
     },
     "execution_count": 29,
     "metadata": {},
     "output_type": "execute_result"
    }
   ],
   "source": [
    "#Checking for specific index values\n",
    "'e' in s"
   ]
  },
  {
   "cell_type": "code",
   "execution_count": 32,
   "metadata": {},
   "outputs": [
    {
     "name": "stdout",
     "output_type": "stream",
     "text": [
      "0    0.976125\n",
      "1    0.913002\n",
      "2    0.404592\n",
      "3    0.714151\n",
      "4    0.726155\n",
      "Name: Org, dtype: float64\n",
      "0    0.976125\n",
      "1    0.913002\n",
      "2    0.404592\n",
      "3    0.714151\n",
      "4    0.726155\n",
      "Name: Org, dtype: float64 0    0.976125\n",
      "1    0.913002\n",
      "2    0.404592\n",
      "3    0.714151\n",
      "4    0.726155\n",
      "Name: Rev, dtype: float64\n"
     ]
    }
   ],
   "source": [
    "#Naming and Renaming\n",
    "s = pd.Series(np.random.random(5), name='Org')\n",
    "print(s)\n",
    "s1=s.rename('Rev')\n",
    "print(s, s1)"
   ]
  },
  {
   "cell_type": "code",
   "execution_count": 39,
   "metadata": {},
   "outputs": [
    {
     "name": "stdout",
     "output_type": "stream",
     "text": [
      "<class 'dict'>\n",
      "{'one': a    1.0\n",
      "b    2.0\n",
      "c    3.0\n",
      "dtype: float64, 'two': a    1.0\n",
      "b    2.0\n",
      "c    3.0\n",
      "d    4.0\n",
      "dtype: float64}\n",
      "<class 'pandas.core.frame.DataFrame'>\n",
      "   one  two\n",
      "a  1.0  1.0\n",
      "b  2.0  2.0\n",
      "c  3.0  3.0\n",
      "d  NaN  4.0 4\n",
      "   one  two\n",
      "d  NaN  4.0\n",
      "b  2.0  2.0\n",
      "a  1.0  1.0 3\n",
      "   two three\n",
      "d  4.0   NaN\n",
      "b  2.0   NaN\n",
      "a  1.0   NaN 3\n"
     ]
    }
   ],
   "source": [
    "#DataFrames object\n",
    "d = {'one': pd.Series([1., 2., 3.], index=['a', 'b', 'c']),'two': pd.Series([1., 2., 3., 4.], index=['a', 'b', 'c', 'd'])}\n",
    "print(type(d))\n",
    "print(d)\n",
    "df=pd.DataFrame(d)\n",
    "print(type(df))\n",
    "print(df, len(df))\n",
    "df=pd.DataFrame(d, index=['d', 'b', 'a'])\n",
    "print(df, len(df))\n",
    "df=pd.DataFrame(d, index=['d', 'b', 'a'], columns=['two', 'three'])\n",
    "print(df, len(df))"
   ]
  },
  {
   "cell_type": "code",
   "execution_count": 88,
   "metadata": {},
   "outputs": [
    {
     "name": "stdout",
     "output_type": "stream",
     "text": [
      "   two  bar  foo  two_trunc  three\n",
      "d  4.0  4.0  bar        4.0    8.0\n",
      "b  2.0  2.0  bar        2.0    4.0\n",
      "a  1.0  1.0  bar        NaN    2.0\n",
      "two            2\n",
      "bar            2\n",
      "foo          bar\n",
      "two_trunc      2\n",
      "three          4\n",
      "Name: b, dtype: object\n",
      "   two  bar  foo  two_trunc  three\n",
      "d  4.0  4.0  bar        4.0    8.0\n",
      "b  2.0  2.0  bar        2.0    4.0\n",
      "a  1.0  1.0  bar        NaN    2.0\n"
     ]
    }
   ],
   "source": [
    "print(df)\n",
    "#print(df.index)\n",
    "#print(df.columns)\n",
    "#print(df.get('two'))\n",
    "print(df.loc['b'])\n",
    "df['three']=df['two']*2\n",
    "print(df)\n",
    "#three=df.pop('three')\n",
    "#print(type(three),'\\n',three)\n",
    "#print(df)\n",
    "#df['foo'] = 'bar'\n",
    "#df['two_trunc'] = df['two'][:2]\n",
    "#df.insert(1, 'bar', df['two'])\n",
    "#print(df)"
   ]
  },
  {
   "cell_type": "code",
   "execution_count": 72,
   "metadata": {},
   "outputs": [
    {
     "name": "stdout",
     "output_type": "stream",
     "text": [
      "[0. 0.]\n",
      "<class 'numpy.ndarray'> \n",
      " [(0, 0., b'') (0, 0., b'')]\n",
      "<class 'numpy.ndarray'> \n",
      " [(1, 2., b'Hello') (2, 3., b'World')]\n",
      "   A    B         C\n",
      "0  1  2.0  b'Hello'\n",
      "1  2  3.0  b'World'\n",
      "        A    B         C\n",
      "first   1  2.0  b'Hello'\n",
      "second  2  3.0  b'World'\n",
      "          C  A    B\n",
      "0  b'Hello'  1  2.0\n",
      "1  b'World'  2  3.0\n"
     ]
    }
   ],
   "source": [
    "data=np.zeros(2,)\n",
    "print(data)\n",
    "data = np.zeros((2, ), dtype=[('A', 'i4'), ('B', 'f4'), ('C', 'a10')])\n",
    "print(type(data), '\\n',data)\n",
    "data[:] = [(1, 2., 'Hello'), (2, 3., \"World\")]\n",
    "print(type(data), '\\n',data)\n",
    "d=pd.DataFrame(data)\n",
    "print(d)\n",
    "d=pd.DataFrame(data, index=['first', 'second'])\n",
    "print(d)\n",
    "d=pd.DataFrame(data, columns=['C', 'A', 'B'])\n",
    "print(d)"
   ]
  },
  {
   "cell_type": "code",
   "execution_count": 64,
   "metadata": {},
   "outputs": [
    {
     "name": "stdout",
     "output_type": "stream",
     "text": [
      "<class 'list'>\n",
      "   a   b     c\n",
      "0  1   2   NaN\n",
      "1  5  10  20.0\n",
      "        a   b\n",
      "first   1   2\n",
      "second  5  10\n"
     ]
    }
   ],
   "source": [
    "#From a list of dicts\n",
    "data2 = [{'a': 1, 'b': 2}, {'a': 5, 'b': 10, 'c': 20}]\n",
    "print(type(data2))\n",
    "d=pd.DataFrame(data2)\n",
    "print(d)\n",
    "d=pd.DataFrame(data2,columns=['a','b'],index=['first','second'])\n",
    "print(d)"
   ]
  },
  {
   "cell_type": "code",
   "execution_count": 67,
   "metadata": {},
   "outputs": [
    {
     "name": "stdout",
     "output_type": "stream",
     "text": [
      "a    5\n",
      "b    5\n",
      "c    5\n",
      "d    5\n",
      "e    5\n",
      "dtype: int64\n",
      "   one\n",
      "a    5\n",
      "b    5\n",
      "c    5\n",
      "d    5\n",
      "e    5\n"
     ]
    }
   ],
   "source": [
    "s = pd.Series(5, index=['a', 'b', 'c', 'd', 'e'])\n",
    "print(s)\n",
    "d=pd.DataFrame(s,columns=['one'])\n",
    "print(d)"
   ]
  },
  {
   "cell_type": "code",
   "execution_count": 96,
   "metadata": {},
   "outputs": [
    {
     "name": "stdout",
     "output_type": "stream",
     "text": [
      "          A         B         C         D\n",
      "0 -0.373158  0.324772  1.029840 -0.386525\n",
      "1 -1.699590  0.348899  0.814164  1.085044\n",
      "2  1.076513  0.054717  1.582043  1.114226\n",
      "3 -1.101397 -0.262702  0.497885  1.079990\n",
      "4 -0.201511 -0.881895  1.394961  0.745922\n",
      "5  0.082382 -0.163588 -0.454985 -1.589672\n",
      "6 -1.272821 -2.369997  1.691229  2.848680\n",
      "7 -1.034018  1.778069  0.016249  0.214188\n",
      "8 -0.621707  1.124344  1.188648  1.428550\n",
      "9 -1.252737 -1.140455  0.265024  0.984079\n",
      "\n",
      " A   -0.373158\n",
      "B    0.324772\n",
      "C    1.029840\n",
      "D   -0.386525\n",
      "Name: 0, dtype: float64\n",
      "          A         B         C         D\n",
      "0  0.000000  0.000000  0.000000  0.000000\n",
      "1 -1.326432  0.024127 -0.215677  1.471569\n",
      "2  1.449671 -0.270054  0.552203  1.500751\n",
      "3 -0.728239 -0.587474 -0.531956  1.466515\n",
      "4  0.171647 -1.206667  0.365121  1.132448\n",
      "5  0.455540 -0.488360 -1.484825 -1.203147\n",
      "6 -0.899662 -2.694769  0.661389  3.235205\n",
      "7 -0.660859  1.453297 -1.013591  0.600714\n",
      "8 -0.248548  0.799572  0.158808  1.815076\n",
      "9 -0.879578 -1.465227 -0.764817  1.370604\n",
      "          A         B         C         D\n",
      "0  0.000000  0.000000  0.000000  0.000000\n",
      "1 -1.326432  0.024127 -0.215677  1.471569\n",
      "2  1.449671 -0.270054  0.552203  1.500751\n",
      "3 -0.728239 -0.587474 -0.531956  1.466515\n",
      "4  0.171647 -1.206667  0.365121  1.132448\n",
      "5  0.455540 -0.488360 -1.484825 -1.203147\n",
      "6 -0.899662 -2.694769  0.661389  3.235205\n",
      "7 -0.660859  1.453297 -1.013591  0.600714\n",
      "8 -0.248548  0.799572  0.158808  1.815076\n",
      "9 -0.879578 -1.465227 -0.764817  1.370604\n"
     ]
    }
   ],
   "source": [
    "df = pd.DataFrame(np.random.randn(10, 4), columns=['A', 'B', 'C', 'D'])\n",
    "print(df)\n",
    "print('\\n',df.iloc[0])\n",
    "#We can do operations between DataFrames and Series. Here the Series index is matched with the DataFrame columns\n",
    "print(df-df.iloc[0])\n",
    "print(df.sub(df.iloc[0])) #Same as the previous statement"
   ]
  },
  {
   "cell_type": "code",
   "execution_count": 98,
   "metadata": {},
   "outputs": [
    {
     "name": "stdout",
     "output_type": "stream",
     "text": [
      "       a      b\n",
      "0   True  False\n",
      "1  False   True\n",
      "2   True   True \n",
      "        a      b\n",
      "0  False   True\n",
      "1   True   True\n",
      "2   True  False\n",
      "      a     b\n",
      "0  True  True\n",
      "1  True  True\n",
      "2  True  True\n",
      "       a      b\n",
      "0  False  False\n",
      "1  False   True\n",
      "2   True  False\n"
     ]
    }
   ],
   "source": [
    "df1 = pd.DataFrame({'a': [1, 0, 1], 'b': [0, 1, 1]}, dtype=bool)\n",
    "df2 = pd.DataFrame({'a': [0, 1, 1], 'b': [1, 1, 0]}, dtype=bool)\n",
    "print(df1,'\\n',df2)\n",
    "print(df1|df2)\n",
    "print(df1&df2)"
   ]
  },
  {
   "cell_type": "code",
   "execution_count": 100,
   "metadata": {},
   "outputs": [
    {
     "name": "stdout",
     "output_type": "stream",
     "text": [
      "DatetimeIndex(['2013-01-01', '2013-01-02', '2013-01-03', '2013-01-04',\n",
      "               '2013-01-05', '2013-01-06'],\n",
      "              dtype='datetime64[ns]', freq='D')\n",
      "                   A         B         C         D\n",
      "2013-01-01  1.534887  0.096595 -0.835133 -0.212464\n",
      "2013-01-02 -1.991862 -0.011185  1.477332 -0.951596\n",
      "2013-01-03 -0.344363  1.038781 -0.688626  1.853874\n",
      "2013-01-04 -0.948512  0.111935 -1.145971  0.529527\n",
      "2013-01-05 -0.085404 -0.568092  1.802401  0.245644\n",
      "2013-01-06  0.807490 -2.658444  1.678139 -0.192633\n"
     ]
    }
   ],
   "source": [
    "dates = pd.date_range('20130101', periods=6)\n",
    "print(dates)\n",
    "df = pd.DataFrame(np.random.randn(6, 4), index=dates, columns=list('ABCD'))\n",
    "print(df)"
   ]
  },
  {
   "cell_type": "code",
   "execution_count": 104,
   "metadata": {},
   "outputs": [
    {
     "name": "stdout",
     "output_type": "stream",
     "text": [
      "     A          B    C  D      E    F\n",
      "0  1.0 2013-01-02  1.0  3   test  foo\n",
      "1  1.0 2013-01-02  1.0  3  train  foo\n",
      "2  1.0 2013-01-02  1.0  3   test  foo\n",
      "3  1.0 2013-01-02  1.0  3  train  foo\n",
      "A           float64\n",
      "B    datetime64[ns]\n",
      "C           float32\n",
      "D             int32\n",
      "E          category\n",
      "F            object\n",
      "dtype: object\n",
      "Int64Index([0, 1, 2, 3], dtype='int64')\n"
     ]
    }
   ],
   "source": [
    "df2 = pd.DataFrame({'A': 1.,\n",
    "                    'B': pd.Timestamp('20130102'),\n",
    "                    'C': pd.Series(1, index=list(range(4)), dtype='float32'),\n",
    "                    'D': np.array([3] * 4, dtype='int32'),\n",
    "                    'E': pd.Categorical([\"test\", \"train\", \"test\", \"train\"]),\n",
    "                    'F': 'foo'})\n",
    "print(df2)\n",
    "print(df2.dtypes)\n"
   ]
  },
  {
   "cell_type": "code",
   "execution_count": 106,
   "metadata": {},
   "outputs": [
    {
     "name": "stdout",
     "output_type": "stream",
     "text": [
      "[[1.0 Timestamp('2013-01-02 00:00:00') 1.0 3 'test' 'foo']\n",
      " [1.0 Timestamp('2013-01-02 00:00:00') 1.0 3 'train' 'foo']\n",
      " [1.0 Timestamp('2013-01-02 00:00:00') 1.0 3 'test' 'foo']\n",
      " [1.0 Timestamp('2013-01-02 00:00:00') 1.0 3 'train' 'foo']]\n",
      "         A    C    D\n",
      "count  4.0  4.0  4.0\n",
      "mean   1.0  1.0  3.0\n",
      "std    0.0  0.0  0.0\n",
      "min    1.0  1.0  3.0\n",
      "25%    1.0  1.0  3.0\n",
      "50%    1.0  1.0  3.0\n",
      "75%    1.0  1.0  3.0\n",
      "max    1.0  1.0  3.0\n"
     ]
    }
   ],
   "source": [
    "print(df2.to_numpy())\n",
    "print(df2.describe())"
   ]
  },
  {
   "cell_type": "code",
   "execution_count": 109,
   "metadata": {},
   "outputs": [
    {
     "name": "stdout",
     "output_type": "stream",
     "text": [
      "                   A         B         C         D\n",
      "2013-01-01  0.800222 -0.940594 -0.259958  0.964062\n",
      "2013-01-02 -0.070962  1.460855  0.012629  1.856337\n",
      "2013-01-03  0.956427  0.145469  0.423407  0.438544\n",
      "2013-01-04  0.904539  0.186799  0.607631  1.109728\n",
      "2013-01-05 -0.624984  0.607455 -1.071659 -1.443878\n",
      "2013-01-06  0.524970 -0.747817 -1.000886  0.479925\n"
     ]
    }
   ],
   "source": [
    "df = pd.DataFrame(np.random.randn(6, 4), index=dates, columns=list('ABCD'))\n",
    "print(df)"
   ]
  },
  {
   "cell_type": "code",
   "execution_count": 111,
   "metadata": {},
   "outputs": [
    {
     "name": "stdout",
     "output_type": "stream",
     "text": [
      "                   A         B         C         D\n",
      "2013-01-01  0.800222 -0.940594 -0.259958  0.964062\n",
      "2013-01-02 -0.070962  1.460855  0.012629  1.856337\n",
      "2013-01-03  0.956427  0.145469  0.423407  0.438544\n"
     ]
    },
    {
     "data": {
      "text/html": [
       "<div>\n",
       "<style scoped>\n",
       "    .dataframe tbody tr th:only-of-type {\n",
       "        vertical-align: middle;\n",
       "    }\n",
       "\n",
       "    .dataframe tbody tr th {\n",
       "        vertical-align: top;\n",
       "    }\n",
       "\n",
       "    .dataframe thead th {\n",
       "        text-align: right;\n",
       "    }\n",
       "</style>\n",
       "<table border=\"1\" class=\"dataframe\">\n",
       "  <thead>\n",
       "    <tr style=\"text-align: right;\">\n",
       "      <th></th>\n",
       "      <th>A</th>\n",
       "      <th>B</th>\n",
       "      <th>C</th>\n",
       "      <th>D</th>\n",
       "    </tr>\n",
       "  </thead>\n",
       "  <tbody>\n",
       "    <tr>\n",
       "      <th>2013-01-02</th>\n",
       "      <td>-0.070962</td>\n",
       "      <td>1.460855</td>\n",
       "      <td>0.012629</td>\n",
       "      <td>1.856337</td>\n",
       "    </tr>\n",
       "    <tr>\n",
       "      <th>2013-01-03</th>\n",
       "      <td>0.956427</td>\n",
       "      <td>0.145469</td>\n",
       "      <td>0.423407</td>\n",
       "      <td>0.438544</td>\n",
       "    </tr>\n",
       "    <tr>\n",
       "      <th>2013-01-04</th>\n",
       "      <td>0.904539</td>\n",
       "      <td>0.186799</td>\n",
       "      <td>0.607631</td>\n",
       "      <td>1.109728</td>\n",
       "    </tr>\n",
       "  </tbody>\n",
       "</table>\n",
       "</div>"
      ],
      "text/plain": [
       "                   A         B         C         D\n",
       "2013-01-02 -0.070962  1.460855  0.012629  1.856337\n",
       "2013-01-03  0.956427  0.145469  0.423407  0.438544\n",
       "2013-01-04  0.904539  0.186799  0.607631  1.109728"
      ]
     },
     "execution_count": 111,
     "metadata": {},
     "output_type": "execute_result"
    }
   ],
   "source": [
    "print(df[0:3])\n",
    "df['20130102':'20130104']"
   ]
  },
  {
   "cell_type": "code",
   "execution_count": 114,
   "metadata": {},
   "outputs": [
    {
     "data": {
      "text/html": [
       "<div>\n",
       "<style scoped>\n",
       "    .dataframe tbody tr th:only-of-type {\n",
       "        vertical-align: middle;\n",
       "    }\n",
       "\n",
       "    .dataframe tbody tr th {\n",
       "        vertical-align: top;\n",
       "    }\n",
       "\n",
       "    .dataframe thead th {\n",
       "        text-align: right;\n",
       "    }\n",
       "</style>\n",
       "<table border=\"1\" class=\"dataframe\">\n",
       "  <thead>\n",
       "    <tr style=\"text-align: right;\">\n",
       "      <th></th>\n",
       "      <th>A</th>\n",
       "      <th>B</th>\n",
       "    </tr>\n",
       "  </thead>\n",
       "  <tbody>\n",
       "    <tr>\n",
       "      <th>2013-01-01</th>\n",
       "      <td>0.800222</td>\n",
       "      <td>-0.940594</td>\n",
       "    </tr>\n",
       "    <tr>\n",
       "      <th>2013-01-02</th>\n",
       "      <td>-0.070962</td>\n",
       "      <td>1.460855</td>\n",
       "    </tr>\n",
       "    <tr>\n",
       "      <th>2013-01-03</th>\n",
       "      <td>0.956427</td>\n",
       "      <td>0.145469</td>\n",
       "    </tr>\n",
       "    <tr>\n",
       "      <th>2013-01-04</th>\n",
       "      <td>0.904539</td>\n",
       "      <td>0.186799</td>\n",
       "    </tr>\n",
       "    <tr>\n",
       "      <th>2013-01-05</th>\n",
       "      <td>-0.624984</td>\n",
       "      <td>0.607455</td>\n",
       "    </tr>\n",
       "    <tr>\n",
       "      <th>2013-01-06</th>\n",
       "      <td>0.524970</td>\n",
       "      <td>-0.747817</td>\n",
       "    </tr>\n",
       "  </tbody>\n",
       "</table>\n",
       "</div>"
      ],
      "text/plain": [
       "                   A         B\n",
       "2013-01-01  0.800222 -0.940594\n",
       "2013-01-02 -0.070962  1.460855\n",
       "2013-01-03  0.956427  0.145469\n",
       "2013-01-04  0.904539  0.186799\n",
       "2013-01-05 -0.624984  0.607455\n",
       "2013-01-06  0.524970 -0.747817"
      ]
     },
     "execution_count": 114,
     "metadata": {},
     "output_type": "execute_result"
    }
   ],
   "source": [
    "df.loc[:, ['A', 'B']]"
   ]
  },
  {
   "cell_type": "code",
   "execution_count": 115,
   "metadata": {},
   "outputs": [
    {
     "data": {
      "text/html": [
       "<div>\n",
       "<style scoped>\n",
       "    .dataframe tbody tr th:only-of-type {\n",
       "        vertical-align: middle;\n",
       "    }\n",
       "\n",
       "    .dataframe tbody tr th {\n",
       "        vertical-align: top;\n",
       "    }\n",
       "\n",
       "    .dataframe thead th {\n",
       "        text-align: right;\n",
       "    }\n",
       "</style>\n",
       "<table border=\"1\" class=\"dataframe\">\n",
       "  <thead>\n",
       "    <tr style=\"text-align: right;\">\n",
       "      <th></th>\n",
       "      <th>A</th>\n",
       "      <th>B</th>\n",
       "    </tr>\n",
       "  </thead>\n",
       "  <tbody>\n",
       "    <tr>\n",
       "      <th>2013-01-02</th>\n",
       "      <td>-0.070962</td>\n",
       "      <td>1.460855</td>\n",
       "    </tr>\n",
       "    <tr>\n",
       "      <th>2013-01-03</th>\n",
       "      <td>0.956427</td>\n",
       "      <td>0.145469</td>\n",
       "    </tr>\n",
       "    <tr>\n",
       "      <th>2013-01-04</th>\n",
       "      <td>0.904539</td>\n",
       "      <td>0.186799</td>\n",
       "    </tr>\n",
       "  </tbody>\n",
       "</table>\n",
       "</div>"
      ],
      "text/plain": [
       "                   A         B\n",
       "2013-01-02 -0.070962  1.460855\n",
       "2013-01-03  0.956427  0.145469\n",
       "2013-01-04  0.904539  0.186799"
      ]
     },
     "execution_count": 115,
     "metadata": {},
     "output_type": "execute_result"
    }
   ],
   "source": [
    "df.loc['20130102':'20130104', ['A', 'B']]"
   ]
  },
  {
   "cell_type": "code",
   "execution_count": 117,
   "metadata": {},
   "outputs": [
    {
     "data": {
      "text/plain": [
       "0.8002217670642424"
      ]
     },
     "execution_count": 117,
     "metadata": {},
     "output_type": "execute_result"
    }
   ],
   "source": [
    "df.loc[dates[0], 'A']\n",
    "df.at[dates[0], 'A'] #Equivalent to the above but faster"
   ]
  },
  {
   "cell_type": "code",
   "execution_count": 121,
   "metadata": {},
   "outputs": [
    {
     "name": "stdout",
     "output_type": "stream",
     "text": [
      "[2 2 2 1 1 6 0 5 2 3 0 5 0 2 3 3 1 6 1 1 4 1 3 4 1 3 0 3 3 0 4 6 2 3 3 5 6\n",
      " 1 6 2 2 6 2 0 3 0 2 0 6 2]\n",
      "2    11\n",
      "3    10\n",
      "1     8\n",
      "0     8\n",
      "6     7\n",
      "5     3\n",
      "4     3\n",
      "dtype: int64\n",
      "0    2\n",
      "dtype: int64\n"
     ]
    }
   ],
   "source": [
    "#Histogram\n",
    "data = np.random.randint(0, 7, size=50)\n",
    "print(data)\n",
    "s=pd.Series(data)\n",
    "#print(s)\n",
    "print(s.value_counts()) # Gives the histogram\n",
    "print(s.mode()) #Gives the most frequently occuring value"
   ]
  },
  {
   "cell_type": "code",
   "execution_count": 122,
   "metadata": {},
   "outputs": [
    {
     "name": "stdout",
     "output_type": "stream",
     "text": [
      "[(-1.239, -0.633], (0.576, 1.18], (-0.633, -0.0285], (-0.633, -0.0285], (-1.239, -0.633], ..., (-0.633, -0.0285], (0.576, 1.18], (-1.239, -0.633], (-1.239, -0.633], (-0.0285, 0.576]]\n",
      "Length: 20\n",
      "Categories (4, interval[float64]): [(-1.239, -0.633] < (-0.633, -0.0285] < (-0.0285, 0.576] < (0.576, 1.18]]\n"
     ]
    }
   ],
   "source": [
    "#Discretization\n",
    "arr = np.random.randn(20)\n",
    "factor = pd.cut(arr, 4)\n",
    "print(factor)"
   ]
  },
  {
   "cell_type": "code",
   "execution_count": 139,
   "metadata": {},
   "outputs": [
    {
     "name": "stdout",
     "output_type": "stream",
     "text": [
      "[('bar', 'one'), ('bar', 'two'), ('baz', 'one'), ('baz', 'two'), ('foo', 'one'), ('foo', 'two'), ('qux', 'one'), ('qux', 'two')]\n",
      "MultiIndex([('bar', 'one'),\n",
      "            ('bar', 'two'),\n",
      "            ('baz', 'one'),\n",
      "            ('baz', 'two'),\n",
      "            ('foo', 'one'),\n",
      "            ('foo', 'two'),\n",
      "            ('qux', 'one'),\n",
      "            ('qux', 'two')],\n",
      "           names=['first', 'second'])\n",
      "<class 'list'>\n",
      "MultiIndex([('bar', 'one'),\n",
      "            ('bar', 'two'),\n",
      "            ('baz', 'one'),\n",
      "            ('baz', 'two'),\n",
      "            ('foo', 'one'),\n",
      "            ('foo', 'two'),\n",
      "            ('qux', 'one'),\n",
      "            ('qux', 'two')],\n",
      "           names=['first', 'second'])\n",
      "[None]\n",
      "Index(['bar', 'bar', 'foo', 'foo'], dtype='object', name='first')\n",
      "Index(['one', 'two', 'one', 'two'], dtype='object', name='second')\n"
     ]
    }
   ],
   "source": [
    "#Multi-Index\n",
    "arrays = [['bar', 'bar', 'baz', 'baz', 'foo', 'foo', 'qux', 'qux'],\n",
    "          ['one', 'two', 'one', 'two', 'one', 'two', 'one', 'two']]\n",
    "tuples = list(zip(*arrays))\n",
    "print(tuples)\n",
    "index = pd.MultiIndex.from_tuples(tuples, names=['first', 'second'])\n",
    "print(index)\n",
    "\n",
    "iterables = [['bar', 'baz', 'foo', 'qux'], ['one', 'two']]\n",
    "print(type(iterables))\n",
    "index=pd.MultiIndex.from_product(iterables, names=['first', 'second'])\n",
    "print(index)\n",
    "\n",
    "#From DataFrames\n",
    "df = pd.DataFrame([['bar', 'one'], ['bar', 'two'],\n",
    "                   ['foo', 'one'], ['foo', 'two']],\n",
    "                  columns=['first', 'second'])\n",
    "index=pd.MultiIndex.from_frame(df)\n",
    "print(df.index.names)\n",
    "\n",
    "#s=pd.Series(np.random.randn(8), index=tuples)\n",
    "#print(s)\n",
    "print(index.get_level_values(0))\n",
    "print(index.get_level_values('second'))"
   ]
  },
  {
   "cell_type": "code",
   "execution_count": 144,
   "metadata": {},
   "outputs": [
    {
     "name": "stdout",
     "output_type": "stream",
     "text": [
      "2000-01-01    0.544945\n",
      "2000-01-02   -1.400791\n",
      "2000-01-03   -1.617563\n",
      "2000-01-04   -0.960626\n",
      "2000-01-05   -0.143408\n",
      "                ...   \n",
      "2002-09-22    0.843304\n",
      "2002-09-23    1.787717\n",
      "2002-09-24   -1.494649\n",
      "2002-09-25    1.032139\n",
      "2002-09-26   -0.420285\n",
      "Freq: D, Length: 1000, dtype: float64\n",
      "DatetimeIndex(['2000-01-01', '2000-01-02', '2000-01-03', '2000-01-04',\n",
      "               '2000-01-05', '2000-01-06', '2000-01-07', '2000-01-08',\n",
      "               '2000-01-09', '2000-01-10',\n",
      "               ...\n",
      "               '2002-09-17', '2002-09-18', '2002-09-19', '2002-09-20',\n",
      "               '2002-09-21', '2002-09-22', '2002-09-23', '2002-09-24',\n",
      "               '2002-09-25', '2002-09-26'],\n",
      "              dtype='datetime64[ns]', length=1000, freq='D')\n",
      "DatetimeIndex(['2000-01-01', '2000-01-02', '2000-01-03', '2000-01-04',\n",
      "               '2000-01-05', '2000-01-06', '2000-01-07', '2000-01-08',\n",
      "               '2000-01-09', '2000-01-10',\n",
      "               ...\n",
      "               '2002-09-17', '2002-09-18', '2002-09-19', '2002-09-20',\n",
      "               '2002-09-21', '2002-09-22', '2002-09-23', '2002-09-24',\n",
      "               '2002-09-25', '2002-09-26'],\n",
      "              dtype='datetime64[ns]', length=1000, freq='D')\n"
     ]
    },
    {
     "data": {
      "text/plain": [
       "<matplotlib.axes._subplots.AxesSubplot at 0x1259c0690>"
      ]
     },
     "execution_count": 144,
     "metadata": {},
     "output_type": "execute_result"
    },
    {
     "data": {
      "image/png": "[encoded data removed]",
      "text/plain": [
       "<Figure size 432x288 with 1 Axes>"
      ]
     },
     "metadata": {
      "needs_background": "light"
     },
     "output_type": "display_data"
    },
    {
     "data": {
      "image/png": "[encoded data removed]",
      "text/plain": [
       "<Figure size 432x288 with 1 Axes>"
      ]
     },
     "metadata": {
      "needs_background": "light"
     },
     "output_type": "display_data"
    }
   ],
   "source": [
    "#Plotting a Series\n",
    "ts = pd.Series(np.random.randn(1000),\n",
    "               index=pd.date_range('1/1/2000', periods=1000))\n",
    "print(ts)\n",
    "print(ts.index)\n",
    "ts=ts.cumsum()\n",
    "#print(ts.index)\n",
    "ts.plot()\n",
    "\n",
    "#Plotting a DataFrame\n",
    "df = pd.DataFrame(np.random.randn(1000, 4),\n",
    "                  index=ts.index, columns=list('ABCD'))\n",
    "df = df.cumsum()\n",
    "#plt.figure()\n",
    "df.plot()"
   ]
  },
  {
   "cell_type": "code",
   "execution_count": null,
   "metadata": {},
   "outputs": [],
   "source": []
  }
 ],
 "metadata": {
  "kernelspec": {
   "display_name": "Python 3",
   "language": "python",
   "name": "python3"
  },
  "language_info": {
   "codemirror_mode": {
    "name": "ipython",
    "version": 3
   },
   "file_extension": ".py",
   "mimetype": "text/x-python",
   "name": "python",
   "nbconvert_exporter": "python",
   "pygments_lexer": "ipython3",
   "version": "3.7.4"
  }
 },
 "nbformat": 4,
 "nbformat_minor": 2
}
